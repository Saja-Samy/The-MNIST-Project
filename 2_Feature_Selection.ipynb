{
  "cells": [
    {
      "cell_type": "markdown",
      "metadata": {
        "id": "rcuUDLgkq62y"
      },
      "source": [
        "# Feature selection\n",
        "\n",
        "This notebook aims to identify the most relevant features for predicting  handwritten digits in the MNIST dataset.\n",
        "Feature selection helps reduce dimensionality, improve model performance, and gain insights into important factors influencing the target."
      ]
    },
    {
      "cell_type": "markdown",
      "source": [
        "## 0. Data Load"
      ],
      "metadata": {
        "id": "yoZt8nLErile"
      }
    },
    {
      "cell_type": "code",
      "execution_count": 1,
      "metadata": {
        "id": "Oau8p1BB9QBl",
        "colab": {
          "base_uri": "https://localhost:8080/"
        },
        "outputId": "200fdf42-13c5-4e76-aac2-468bc9a5c33b"
      },
      "outputs": [
        {
          "output_type": "stream",
          "name": "stdout",
          "text": [
            "Downloading data from https://storage.googleapis.com/tensorflow/tf-keras-datasets/mnist.npz\n",
            "11490434/11490434 [==============================] - 0s 0us/step\n"
          ]
        }
      ],
      "source": [
        "import tensorflow as tf\n",
        "# Load MNIST dataset\n",
        "mnist = tf.keras.datasets.mnist\n",
        "(train_images, train_labels), (test_images, test_labels) = mnist.load_data()"
      ]
    },
    {
      "cell_type": "code",
      "source": [
        "train_images, test_images = train_images / 255.0, test_images / 255.0"
      ],
      "metadata": {
        "id": "L1yrHvbk84F1"
      },
      "execution_count": 5,
      "outputs": []
    },
    {
      "cell_type": "code",
      "source": [
        "train_images.shape"
      ],
      "metadata": {
        "colab": {
          "base_uri": "https://localhost:8080/"
        },
        "id": "15vhb2vZ8_Bv",
        "outputId": "7bb19832-06c1-4d52-8a9b-6bffd0e4e0e0"
      },
      "execution_count": 6,
      "outputs": [
        {
          "output_type": "execute_result",
          "data": {
            "text/plain": [
              "(60000, 28, 28)"
            ]
          },
          "metadata": {},
          "execution_count": 6
        }
      ]
    },
    {
      "cell_type": "markdown",
      "source": [
        "## 1. Univariate Selection\n",
        "### Starting with Univariate Selection, which selects the best features based on univariate statistical tests. Using the chi-squared (chi2) statistical test for non-negative features to select 100 of the best features from our dataset."
      ],
      "metadata": {
        "id": "5asQtOzP-ob3"
      }
    },
    {
      "cell_type": "code",
      "execution_count": 7,
      "metadata": {
        "id": "KJq51l8X-WMr"
      },
      "outputs": [],
      "source": [
        "# Flatten the images for feature selection\n",
        "train_images = train_images.reshape(-1, 28*28)"
      ]
    },
    {
      "cell_type": "code",
      "execution_count": 3,
      "metadata": {
        "colab": {
          "base_uri": "https://localhost:8080/"
        },
        "id": "UaoWevY-GoS_",
        "outputId": "0841265e-4f9b-4480-c9f3-09ff6975ea3a"
      },
      "outputs": [
        {
          "output_type": "execute_result",
          "data": {
            "text/plain": [
              "(60000, 784)"
            ]
          },
          "metadata": {},
          "execution_count": 3
        }
      ],
      "source": [
        "train_images.shape   #now each image in the dataset is flattened into a 1-dimensional array of length 784"
      ]
    },
    {
      "cell_type": "code",
      "execution_count": 5,
      "metadata": {
        "id": "oljWxTH29RfF"
      },
      "outputs": [],
      "source": [
        "from sklearn.feature_selection import SelectKBest\n",
        "from sklearn.feature_selection import chi2\n",
        "\n",
        "\n",
        "# Feature selection using chi-square test\n",
        "selector = SelectKBest(score_func=chi2, k=100)  # Select top 100 features\n",
        "X_selected = selector.fit_transform(train_images, train_labels)\n",
        "#X_test_kbest = selector.transform(test_labels)\n",
        "\n",
        "#fit = selector.fit(train_images, train_labels)"
      ]
    },
    {
      "cell_type": "code",
      "execution_count": 6,
      "metadata": {
        "colab": {
          "base_uri": "https://localhost:8080/"
        },
        "id": "DvV9ndOqFIb4",
        "outputId": "9799448a-9e6d-4539-e7bb-285b6461edeb"
      },
      "outputs": [
        {
          "output_type": "execute_result",
          "data": {
            "text/plain": [
              "(60000, 100)"
            ]
          },
          "metadata": {},
          "execution_count": 6
        }
      ],
      "source": [
        "X_selected.shape"
      ]
    },
    {
      "cell_type": "code",
      "source": [
        "X_selected[98]"
      ],
      "metadata": {
        "colab": {
          "base_uri": "https://localhost:8080/"
        },
        "id": "pyB6Q__bCeHt",
        "outputId": "e91d89b1-a875-4834-c96d-a94f02748646"
      },
      "execution_count": 20,
      "outputs": [
        {
          "output_type": "execute_result",
          "data": {
            "text/plain": [
              "array([  0,   0,   0,   0,   0,  15, 108, 233, 253, 255, 180, 101,   0,\n",
              "         0, 253, 244,   0,   0,   0,   0,   0, 252, 253, 240,   0,   0,\n",
              "         0,   0,   0,   0, 252, 252, 253,   0,   0,   0,   0,   0,   0,\n",
              "         0,  23,   0,   0,   0,   0,   0,   0,   0,   0,   0,   0,   0,\n",
              "         0,   0,   0,   0,   0,   0,   0,   0,   0,   0,   0,   0,   0,\n",
              "         0,   0,   0,   0,   0,   0,   0,   0,   0,   0,   0,   0, 116,\n",
              "         0,   0,   0,   0,   0,   0,   0,   0,   0,   0,   0,   0,   0,\n",
              "         0,   0,   0,   5,   0,  24,   0,   0,   0], dtype=uint8)"
            ]
          },
          "metadata": {},
          "execution_count": 20
        }
      ]
    },
    {
      "cell_type": "code",
      "execution_count": 10,
      "metadata": {
        "colab": {
          "base_uri": "https://localhost:8080/"
        },
        "id": "vdn0gEk4Getc",
        "outputId": "d5c5d54e-4e1e-4f4c-d3f6-7b6ab82e5ef6"
      },
      "outputs": [
        {
          "output_type": "execute_result",
          "data": {
            "text/plain": [
              "array([[0, 0, 0, ..., 0, 0, 0],\n",
              "       [0, 0, 0, ..., 0, 0, 0],\n",
              "       [0, 0, 0, ..., 0, 0, 0],\n",
              "       ...,\n",
              "       [0, 0, 0, ..., 0, 0, 0],\n",
              "       [0, 0, 0, ..., 0, 0, 0],\n",
              "       [0, 0, 0, ..., 0, 0, 0]], dtype=uint8)"
            ]
          },
          "metadata": {},
          "execution_count": 10
        }
      ],
      "source": [
        "X_selected"
      ]
    },
    {
      "cell_type": "code",
      "execution_count": 10,
      "metadata": {
        "colab": {
          "base_uri": "https://localhost:8080/"
        },
        "id": "rdegZz37GEv1",
        "outputId": "8dc87f81-d2bb-49cc-e73c-295c58646f91"
      },
      "outputs": [
        {
          "output_type": "stream",
          "name": "stdout",
          "text": [
            "Selected feature indices: [ 98  99 100 101 102 150 151 152 153 154 155 156 301 302 322 323 329 330\n",
            " 331 344 345 349 350 351 357 358 359 371 372 373 376 377 378 385 386 387\n",
            " 398 399 400 401 406 413 414 415 426 427 428 429 433 441 442 454 455 456\n",
            " 457 458 461 468 469 470 482 483 484 485 486 487 488 489 496 497 510 511\n",
            " 512 513 514 515 516 523 524 538 539 540 541 542 543 544 566 567 568 569\n",
            " 570 594 595 596 597 624 625 711 712 713]\n"
          ]
        }
      ],
      "source": [
        "selected_feature_indices = selector.get_support(indices=True)\n",
        "print(\"Selected feature indices:\", selected_feature_indices)"
      ]
    },
    {
      "cell_type": "code",
      "source": [
        "train_images.shape"
      ],
      "metadata": {
        "colab": {
          "base_uri": "https://localhost:8080/"
        },
        "id": "dR-T7qEW-38p",
        "outputId": "38203596-d48c-4dfb-933b-452a100e7353"
      },
      "execution_count": 21,
      "outputs": [
        {
          "output_type": "execute_result",
          "data": {
            "text/plain": [
              "(60000, 784)"
            ]
          },
          "metadata": {},
          "execution_count": 21
        }
      ]
    },
    {
      "cell_type": "markdown",
      "source": [
        "## 2. Recursive Feature Elimination\n"
      ],
      "metadata": {
        "id": "uciOG2JSs4GG"
      }
    },
    {
      "cell_type": "code",
      "source": [
        "from sklearn.feature_selection import RFE\n",
        "from sklearn.linear_model import LogisticRegression\n",
        "\n",
        "\n",
        "# Create and train model\n",
        "lr = LogisticRegression(solver='sag', max_iter=1000)\n",
        "lr.fit(train_images, train_labels)\n"
      ],
      "metadata": {
        "colab": {
          "base_uri": "https://localhost:8080/",
          "height": 74
        },
        "id": "SAJvy1tZs6h-",
        "outputId": "06e9b10a-f584-469e-cc70-d2cfe4c7d303"
      },
      "execution_count": 26,
      "outputs": [
        {
          "output_type": "execute_result",
          "data": {
            "text/plain": [
              "LogisticRegression(max_iter=1000, solver='sag')"
            ],
            "text/html": [
              "<style>#sk-container-id-1 {color: black;background-color: white;}#sk-container-id-1 pre{padding: 0;}#sk-container-id-1 div.sk-toggleable {background-color: white;}#sk-container-id-1 label.sk-toggleable__label {cursor: pointer;display: block;width: 100%;margin-bottom: 0;padding: 0.3em;box-sizing: border-box;text-align: center;}#sk-container-id-1 label.sk-toggleable__label-arrow:before {content: \"▸\";float: left;margin-right: 0.25em;color: #696969;}#sk-container-id-1 label.sk-toggleable__label-arrow:hover:before {color: black;}#sk-container-id-1 div.sk-estimator:hover label.sk-toggleable__label-arrow:before {color: black;}#sk-container-id-1 div.sk-toggleable__content {max-height: 0;max-width: 0;overflow: hidden;text-align: left;background-color: #f0f8ff;}#sk-container-id-1 div.sk-toggleable__content pre {margin: 0.2em;color: black;border-radius: 0.25em;background-color: #f0f8ff;}#sk-container-id-1 input.sk-toggleable__control:checked~div.sk-toggleable__content {max-height: 200px;max-width: 100%;overflow: auto;}#sk-container-id-1 input.sk-toggleable__control:checked~label.sk-toggleable__label-arrow:before {content: \"▾\";}#sk-container-id-1 div.sk-estimator input.sk-toggleable__control:checked~label.sk-toggleable__label {background-color: #d4ebff;}#sk-container-id-1 div.sk-label input.sk-toggleable__control:checked~label.sk-toggleable__label {background-color: #d4ebff;}#sk-container-id-1 input.sk-hidden--visually {border: 0;clip: rect(1px 1px 1px 1px);clip: rect(1px, 1px, 1px, 1px);height: 1px;margin: -1px;overflow: hidden;padding: 0;position: absolute;width: 1px;}#sk-container-id-1 div.sk-estimator {font-family: monospace;background-color: #f0f8ff;border: 1px dotted black;border-radius: 0.25em;box-sizing: border-box;margin-bottom: 0.5em;}#sk-container-id-1 div.sk-estimator:hover {background-color: #d4ebff;}#sk-container-id-1 div.sk-parallel-item::after {content: \"\";width: 100%;border-bottom: 1px solid gray;flex-grow: 1;}#sk-container-id-1 div.sk-label:hover label.sk-toggleable__label {background-color: #d4ebff;}#sk-container-id-1 div.sk-serial::before {content: \"\";position: absolute;border-left: 1px solid gray;box-sizing: border-box;top: 0;bottom: 0;left: 50%;z-index: 0;}#sk-container-id-1 div.sk-serial {display: flex;flex-direction: column;align-items: center;background-color: white;padding-right: 0.2em;padding-left: 0.2em;position: relative;}#sk-container-id-1 div.sk-item {position: relative;z-index: 1;}#sk-container-id-1 div.sk-parallel {display: flex;align-items: stretch;justify-content: center;background-color: white;position: relative;}#sk-container-id-1 div.sk-item::before, #sk-container-id-1 div.sk-parallel-item::before {content: \"\";position: absolute;border-left: 1px solid gray;box-sizing: border-box;top: 0;bottom: 0;left: 50%;z-index: -1;}#sk-container-id-1 div.sk-parallel-item {display: flex;flex-direction: column;z-index: 1;position: relative;background-color: white;}#sk-container-id-1 div.sk-parallel-item:first-child::after {align-self: flex-end;width: 50%;}#sk-container-id-1 div.sk-parallel-item:last-child::after {align-self: flex-start;width: 50%;}#sk-container-id-1 div.sk-parallel-item:only-child::after {width: 0;}#sk-container-id-1 div.sk-dashed-wrapped {border: 1px dashed gray;margin: 0 0.4em 0.5em 0.4em;box-sizing: border-box;padding-bottom: 0.4em;background-color: white;}#sk-container-id-1 div.sk-label label {font-family: monospace;font-weight: bold;display: inline-block;line-height: 1.2em;}#sk-container-id-1 div.sk-label-container {text-align: center;}#sk-container-id-1 div.sk-container {/* jupyter's `normalize.less` sets `[hidden] { display: none; }` but bootstrap.min.css set `[hidden] { display: none !important; }` so we also need the `!important` here to be able to override the default hidden behavior on the sphinx rendered scikit-learn.org. See: https://github.com/scikit-learn/scikit-learn/issues/21755 */display: inline-block !important;position: relative;}#sk-container-id-1 div.sk-text-repr-fallback {display: none;}</style><div id=\"sk-container-id-1\" class=\"sk-top-container\"><div class=\"sk-text-repr-fallback\"><pre>LogisticRegression(max_iter=1000, solver=&#x27;sag&#x27;)</pre><b>In a Jupyter environment, please rerun this cell to show the HTML representation or trust the notebook. <br />On GitHub, the HTML representation is unable to render, please try loading this page with nbviewer.org.</b></div><div class=\"sk-container\" hidden><div class=\"sk-item\"><div class=\"sk-estimator sk-toggleable\"><input class=\"sk-toggleable__control sk-hidden--visually\" id=\"sk-estimator-id-1\" type=\"checkbox\" checked><label for=\"sk-estimator-id-1\" class=\"sk-toggleable__label sk-toggleable__label-arrow\">LogisticRegression</label><div class=\"sk-toggleable__content\"><pre>LogisticRegression(max_iter=1000, solver=&#x27;sag&#x27;)</pre></div></div></div></div></div>"
            ]
          },
          "metadata": {},
          "execution_count": 26
        }
      ]
    },
    {
      "cell_type": "markdown",
      "source": [
        "## 3. Feature Importance\n"
      ],
      "metadata": {
        "id": "CZDhqQlsmaRY"
      }
    },
    {
      "cell_type": "code",
      "source": [
        "from sklearn.ensemble import ExtraTreesClassifier\n",
        "\n",
        "# Apply ExtraTreesClassifier for feature importance\n",
        "etc = ExtraTreesClassifier(n_estimators=100, random_state=42)\n",
        "etc.fit(train_images, train_labels)\n",
        "print(etc.feature_importances_)"
      ],
      "metadata": {
        "colab": {
          "base_uri": "https://localhost:8080/"
        },
        "id": "yIA7rXRMDriK",
        "outputId": "67c3def6-f66b-47fc-fb62-21609f2e96ea"
      },
      "execution_count": 9,
      "outputs": [
        {
          "output_type": "stream",
          "name": "stdout",
          "text": [
            "[0.00000000e+00 0.00000000e+00 0.00000000e+00 0.00000000e+00\n",
            " 0.00000000e+00 0.00000000e+00 0.00000000e+00 0.00000000e+00\n",
            " 0.00000000e+00 0.00000000e+00 0.00000000e+00 0.00000000e+00\n",
            " 2.46992662e-07 3.23736810e-07 0.00000000e+00 0.00000000e+00\n",
            " 0.00000000e+00 0.00000000e+00 0.00000000e+00 0.00000000e+00\n",
            " 0.00000000e+00 0.00000000e+00 0.00000000e+00 0.00000000e+00\n",
            " 0.00000000e+00 0.00000000e+00 0.00000000e+00 0.00000000e+00\n",
            " 0.00000000e+00 0.00000000e+00 0.00000000e+00 0.00000000e+00\n",
            " 0.00000000e+00 0.00000000e+00 1.43229412e-06 1.43818423e-06\n",
            " 2.14323761e-06 2.83628994e-06 3.23021418e-06 3.47894069e-06\n",
            " 4.61295232e-06 4.34318348e-06 3.80982949e-06 9.23656502e-06\n",
            " 4.88484290e-06 2.96102969e-06 2.53133811e-06 4.11472418e-06\n",
            " 2.84787216e-06 2.03323108e-06 1.72133533e-06 1.03647871e-06\n",
            " 0.00000000e+00 0.00000000e+00 0.00000000e+00 0.00000000e+00\n",
            " 0.00000000e+00 0.00000000e+00 0.00000000e+00 3.43572430e-07\n",
            " 5.50864158e-07 6.13408903e-07 2.23280952e-06 1.01168684e-05\n",
            " 1.68273746e-05 2.21625157e-05 3.40242456e-05 7.50345509e-05\n",
            " 8.69656395e-05 1.24725376e-04 2.17562097e-04 2.64807781e-04\n",
            " 1.27458630e-04 2.26165303e-04 7.27908349e-05 8.72313270e-05\n",
            " 3.34758379e-05 2.11973931e-05 1.25486704e-05 2.55218185e-06\n",
            " 6.39647662e-07 0.00000000e+00 0.00000000e+00 0.00000000e+00\n",
            " 0.00000000e+00 0.00000000e+00 0.00000000e+00 3.09951575e-07\n",
            " 8.48355871e-07 3.79839849e-06 1.89088894e-05 2.99440673e-05\n",
            " 5.48530684e-05 1.21325598e-04 2.43563902e-04 3.03409852e-04\n",
            " 3.83906617e-04 5.29977882e-04 1.21085645e-03 1.73201618e-03\n",
            " 1.05965485e-03 1.45853276e-03 6.63998641e-04 7.76329719e-04\n",
            " 3.37609031e-04 1.63409909e-04 8.53433246e-05 4.46256873e-05\n",
            " 1.51949308e-05 4.03090031e-06 3.08740827e-07 0.00000000e+00\n",
            " 0.00000000e+00 0.00000000e+00 2.73116885e-07 1.75447187e-06\n",
            " 5.27019338e-06 2.04903729e-05 5.05525626e-05 9.68375174e-05\n",
            " 1.74977723e-04 3.51534267e-04 5.54970424e-04 9.33986431e-04\n",
            " 1.43498819e-03 1.93653461e-03 1.55816560e-03 1.61283836e-03\n",
            " 1.80340100e-03 1.29350460e-03 7.88192628e-04 6.46150396e-04\n",
            " 4.17163508e-04 2.69479229e-04 1.80605911e-04 1.04771942e-04\n",
            " 5.01635892e-05 2.80152889e-05 4.08138872e-06 1.32458205e-06\n",
            " 0.00000000e+00 0.00000000e+00 1.20690318e-06 4.50093308e-06\n",
            " 2.28984284e-05 6.10201781e-05 1.33143489e-04 2.43719154e-04\n",
            " 5.40487251e-04 1.15279271e-03 2.31273471e-03 2.55232397e-03\n",
            " 3.53757645e-03 3.96815788e-03 3.99599074e-03 4.99227870e-03\n",
            " 4.01626962e-03 2.78286862e-03 1.78102843e-03 1.43425013e-03\n",
            " 1.01747905e-03 8.67535216e-04 5.16278185e-04 3.98616530e-04\n",
            " 1.49754367e-04 4.57672631e-05 9.62026152e-06 1.40299445e-06\n",
            " 0.00000000e+00 2.46992662e-07 1.60147813e-06 1.05162440e-05\n",
            " 3.99946369e-05 1.28961878e-04 2.47766446e-04 4.80388564e-04\n",
            " 9.33008431e-04 1.75259060e-03 2.07474243e-03 3.05531044e-03\n",
            " 2.61633134e-03 2.91851786e-03 4.79784935e-03 4.14590846e-03\n",
            " 3.32211364e-03 3.65491435e-03 2.30435738e-03 1.70607926e-03\n",
            " 1.46390570e-03 1.38044569e-03 1.26208198e-03 7.39061847e-04\n",
            " 2.98510016e-04 1.10624511e-04 2.06287977e-05 4.46192602e-06\n",
            " 0.00000000e+00 1.30553264e-06 4.49259749e-06 2.72629335e-05\n",
            " 8.22724505e-05 1.98564839e-04 4.09015130e-04 6.70535010e-04\n",
            " 8.98571013e-04 1.75648733e-03 2.35072587e-03 1.98549038e-03\n",
            " 2.43089915e-03 3.70203204e-03 5.60552581e-03 6.04381985e-03\n",
            " 5.40528330e-03 2.82530267e-03 2.36344144e-03 2.43990585e-03\n",
            " 1.84281181e-03 1.65673548e-03 1.37663002e-03 9.68516962e-04\n",
            " 5.39866934e-04 1.88255973e-04 3.49678366e-05 4.22536264e-06\n",
            " 7.15124536e-07 2.35948065e-06 8.33703018e-06 3.12392870e-05\n",
            " 1.10676552e-04 2.48932336e-04 4.14679345e-04 9.11036036e-04\n",
            " 1.29671247e-03 1.82050538e-03 2.49766021e-03 3.91554599e-03\n",
            " 3.28275370e-03 3.78225349e-03 5.42070920e-03 4.92788360e-03\n",
            " 3.79734552e-03 3.01556496e-03 3.05314324e-03 3.01555033e-03\n",
            " 2.04469374e-03 1.53555763e-03 1.26419320e-03 1.06039951e-03\n",
            " 6.53813751e-04 1.79504745e-04 3.94673969e-05 2.11305323e-06\n",
            " 0.00000000e+00 1.85244496e-07 7.37572887e-06 4.63477457e-05\n",
            " 1.11073963e-04 2.68008681e-04 6.73921376e-04 9.43994592e-04\n",
            " 1.43226759e-03 1.91128242e-03 3.03923853e-03 5.24180655e-03\n",
            " 3.30470380e-03 3.10641431e-03 4.35786575e-03 3.80275670e-03\n",
            " 4.19093776e-03 4.34879767e-03 3.60987349e-03 2.92704504e-03\n",
            " 2.31245269e-03 1.64321052e-03 1.09113179e-03 8.36567875e-04\n",
            " 4.30541825e-04 1.59438875e-04 2.82829918e-05 2.76771052e-06\n",
            " 0.00000000e+00 1.97869673e-06 9.26190085e-06 3.76300334e-05\n",
            " 1.37889248e-04 2.31296461e-04 5.47801764e-04 8.81313728e-04\n",
            " 2.15262158e-03 3.56957237e-03 4.45179692e-03 4.83603971e-03\n",
            " 3.51130086e-03 2.94410034e-03 3.49237729e-03 5.04176061e-03\n",
            " 3.90542993e-03 4.09287036e-03 3.97104688e-03 4.55322111e-03\n",
            " 2.54401293e-03 1.90982192e-03 9.24104128e-04 5.59288413e-04\n",
            " 2.33483294e-04 8.47393095e-05 1.46826127e-05 3.12584700e-06\n",
            " 0.00000000e+00 1.91680601e-06 8.93640364e-06 2.96561683e-05\n",
            " 1.38380398e-04 2.60130073e-04 6.80237768e-04 1.29660605e-03\n",
            " 2.42133461e-03 2.97114783e-03 4.97678007e-03 5.41915623e-03\n",
            " 3.38277506e-03 2.93488127e-03 5.09328841e-03 5.98041518e-03\n",
            " 3.25972922e-03 4.42423680e-03 4.07718429e-03 3.06734176e-03\n",
            " 2.40692068e-03 2.12793617e-03 1.97702869e-03 8.75810901e-04\n",
            " 1.68230201e-04 5.58234081e-05 1.11988194e-05 7.82554672e-07\n",
            " 0.00000000e+00 1.36007438e-06 4.12170800e-06 2.34375935e-05\n",
            " 1.28177186e-04 3.04075895e-04 9.98999808e-04 1.70552053e-03\n",
            " 2.85174779e-03 4.74758907e-03 4.01425817e-03 5.11032716e-03\n",
            " 5.24514892e-03 3.47185003e-03 9.74903294e-03 5.57449010e-03\n",
            " 3.29510787e-03 3.97554668e-03 3.46755642e-03 2.17341554e-03\n",
            " 1.82748910e-03 1.97236463e-03 3.19951889e-03 6.16788605e-04\n",
            " 1.55268735e-04 2.47765572e-05 1.18612916e-05 6.32131189e-07\n",
            " 0.00000000e+00 7.22453535e-07 3.70551021e-06 2.60585695e-05\n",
            " 1.12440337e-04 3.31651710e-04 1.18083012e-03 2.04233415e-03\n",
            " 3.44709143e-03 4.91400383e-03 3.94991990e-03 5.42593323e-03\n",
            " 5.51323169e-03 5.76926949e-03 1.14390122e-02 3.96998072e-03\n",
            " 3.87250317e-03 5.76462135e-03 3.57157230e-03 1.65213605e-03\n",
            " 1.32920815e-03 1.52763668e-03 2.16339113e-03 7.24446535e-04\n",
            " 1.90279993e-04 4.13896298e-05 1.22440696e-05 1.67803211e-06\n",
            " 0.00000000e+00 7.20391320e-07 1.53609382e-06 2.41368495e-05\n",
            " 1.08045474e-04 4.01693169e-04 9.11109204e-04 2.36420103e-03\n",
            " 3.62112008e-03 3.93669100e-03 4.81320265e-03 5.36942399e-03\n",
            " 4.26620936e-03 6.40565082e-03 7.66642053e-03 3.77949653e-03\n",
            " 3.39995315e-03 4.40277556e-03 2.39809169e-03 1.94181382e-03\n",
            " 1.51764967e-03 1.90320169e-03 1.69597134e-03 7.50352914e-04\n",
            " 2.20949266e-04 4.87499229e-05 1.19183906e-05 4.72261039e-07\n",
            " 0.00000000e+00 6.53501417e-07 5.28972366e-06 2.47847316e-05\n",
            " 1.09913286e-04 4.62936650e-04 1.49650709e-03 2.91784030e-03\n",
            " 4.07645977e-03 5.66992819e-03 5.63030725e-03 3.64999199e-03\n",
            " 4.24984748e-03 7.17150337e-03 6.81792878e-03 2.93249894e-03\n",
            " 4.37848902e-03 6.28675819e-03 3.23875913e-03 2.06046257e-03\n",
            " 1.36814911e-03 1.62953666e-03 1.02729451e-03 4.91474742e-04\n",
            " 1.95565206e-04 5.21126537e-05 1.78896495e-05 1.03317716e-06\n",
            " 0.00000000e+00 0.00000000e+00 3.49345452e-06 4.60441633e-05\n",
            " 1.10070915e-04 6.69487566e-04 1.43251760e-03 2.57510634e-03\n",
            " 3.68646202e-03 4.34962831e-03 5.57368686e-03 4.45744654e-03\n",
            " 5.94493492e-03 6.47347394e-03 6.43913916e-03 3.36736690e-03\n",
            " 4.53089438e-03 3.25103766e-03 2.75993011e-03 2.04477096e-03\n",
            " 1.69513484e-03 1.02616984e-03 6.60801721e-04 6.36877754e-04\n",
            " 1.63726636e-04 8.46755978e-05 2.33587859e-05 4.33497226e-06\n",
            " 0.00000000e+00 3.56379118e-07 8.18283741e-06 5.87036300e-05\n",
            " 1.51324039e-04 6.55216756e-04 1.03965142e-03 3.46075771e-03\n",
            " 3.27654974e-03 4.74424913e-03 5.15950633e-03 5.06233091e-03\n",
            " 6.37942660e-03 6.51481581e-03 4.36812267e-03 2.83794472e-03\n",
            " 2.65199311e-03 1.83545643e-03 1.49781320e-03 1.74553966e-03\n",
            " 1.94024594e-03 9.20861126e-04 6.18716077e-04 3.70818904e-04\n",
            " 2.30902163e-04 6.97219188e-05 1.54262038e-05 3.45971328e-06\n",
            " 0.00000000e+00 0.00000000e+00 1.12310468e-05 7.44311181e-05\n",
            " 2.03412964e-04 5.14746057e-04 1.75741215e-03 2.18320871e-03\n",
            " 3.32757499e-03 3.45308356e-03 5.70139333e-03 7.05132564e-03\n",
            " 4.08978814e-03 4.98058690e-03 2.76991514e-03 1.91221396e-03\n",
            " 1.49115772e-03 2.32366145e-03 2.26292166e-03 2.16709480e-03\n",
            " 1.45278216e-03 1.06319650e-03 6.21715377e-04 4.78437152e-04\n",
            " 3.12961044e-04 7.56683350e-05 1.34901569e-05 1.58890773e-06\n",
            " 0.00000000e+00 2.13711270e-06 1.32991918e-05 8.95607586e-05\n",
            " 2.91002674e-04 9.44267831e-04 3.05327248e-03 3.92100641e-03\n",
            " 3.74779363e-03 4.32843956e-03 6.21192062e-03 6.29431645e-03\n",
            " 3.88274668e-03 2.88540502e-03 2.33802489e-03 1.62702377e-03\n",
            " 1.31769902e-03 2.21319933e-03 2.72553406e-03 1.69938664e-03\n",
            " 1.65121778e-03 1.23550882e-03 5.70307749e-04 4.18725113e-04\n",
            " 1.70108806e-04 5.17950269e-05 6.13481389e-06 2.21289608e-07\n",
            " 0.00000000e+00 0.00000000e+00 8.74997419e-06 7.07316321e-05\n",
            " 3.15262897e-04 8.86667525e-04 2.04565351e-03 3.14717094e-03\n",
            " 4.98299823e-03 4.28883395e-03 4.36827806e-03 4.31362938e-03\n",
            " 3.30641614e-03 2.54248483e-03 2.17698509e-03 2.16535591e-03\n",
            " 1.71062156e-03 1.80247019e-03 2.50124637e-03 1.46518950e-03\n",
            " 1.65504579e-03 9.19325032e-04 4.72568023e-04 2.41760197e-04\n",
            " 1.24138210e-04 3.07802950e-05 5.09009993e-06 0.00000000e+00\n",
            " 0.00000000e+00 0.00000000e+00 9.86949743e-06 7.25499448e-05\n",
            " 2.38098980e-04 6.39082132e-04 1.48341005e-03 3.21171808e-03\n",
            " 4.26864181e-03 4.71067640e-03 3.36607598e-03 1.95655997e-03\n",
            " 1.59777633e-03 1.64629054e-03 1.35057939e-03 1.34139734e-03\n",
            " 1.42733755e-03 1.68151034e-03 1.43043288e-03 1.50143450e-03\n",
            " 7.96716638e-04 6.25415020e-04 3.28409774e-04 2.07743356e-04\n",
            " 6.66046430e-05 1.43953522e-05 4.79649408e-06 0.00000000e+00\n",
            " 0.00000000e+00 0.00000000e+00 5.86033642e-06 3.82873998e-05\n",
            " 1.17168555e-04 3.03320172e-04 6.88768966e-04 1.41825836e-03\n",
            " 2.22390441e-03 3.16140941e-03 3.50023215e-03 3.02861411e-03\n",
            " 1.98478463e-03 1.93743214e-03 1.85342325e-03 1.64619252e-03\n",
            " 1.25808384e-03 1.03421052e-03 9.39142261e-04 7.25559913e-04\n",
            " 5.02626751e-04 2.98173468e-04 1.95393934e-04 8.51838262e-05\n",
            " 4.21143328e-05 9.02589724e-06 2.77492367e-06 3.08740827e-07\n",
            " 0.00000000e+00 0.00000000e+00 3.13142512e-06 2.11530320e-05\n",
            " 8.50706505e-05 1.68919012e-04 4.34440357e-04 7.04834041e-04\n",
            " 1.91398067e-03 2.51663880e-03 2.75909239e-03 4.77985260e-03\n",
            " 4.92268466e-03 4.14420594e-03 2.88855101e-03 2.28014645e-03\n",
            " 1.50683895e-03 8.52636444e-04 6.66437934e-04 4.51186734e-04\n",
            " 3.27656395e-04 2.03870599e-04 1.04302470e-04 4.53914901e-05\n",
            " 1.83914187e-05 7.47678230e-06 2.82843232e-06 0.00000000e+00\n",
            " 0.00000000e+00 0.00000000e+00 8.77900831e-07 1.38893385e-05\n",
            " 4.91283612e-05 1.23028254e-04 2.55302132e-04 4.36820277e-04\n",
            " 6.13899617e-04 1.00002130e-03 1.21710279e-03 1.21877599e-03\n",
            " 1.45349159e-03 1.67353224e-03 1.02208537e-03 8.40694194e-04\n",
            " 6.42748623e-04 5.11841479e-04 4.53355144e-04 3.01473990e-04\n",
            " 2.23605415e-04 1.11286006e-04 6.01394675e-05 3.53627336e-05\n",
            " 9.42555374e-06 2.35629860e-06 9.35005914e-07 0.00000000e+00\n",
            " 0.00000000e+00 0.00000000e+00 0.00000000e+00 2.84863113e-06\n",
            " 2.01967150e-05 5.16473254e-05 1.17523313e-04 2.96256531e-04\n",
            " 4.88282635e-04 7.60931619e-04 9.20865436e-04 7.82148369e-04\n",
            " 1.37602958e-03 5.71358256e-04 5.71492571e-04 4.76106437e-04\n",
            " 4.85779477e-04 4.51811524e-04 3.63912523e-04 2.48602562e-04\n",
            " 1.25146337e-04 5.42364953e-05 3.31383881e-05 1.15452135e-05\n",
            " 2.53722837e-06 3.51411955e-07 0.00000000e+00 0.00000000e+00\n",
            " 0.00000000e+00 0.00000000e+00 0.00000000e+00 0.00000000e+00\n",
            " 5.26678154e-06 1.06721487e-05 1.63492524e-05 3.08397893e-05\n",
            " 5.42820133e-05 1.28767911e-04 1.42982151e-04 1.26440476e-04\n",
            " 2.41952081e-04 4.38077969e-04 3.14857024e-04 1.99399683e-04\n",
            " 1.41213489e-04 1.49503289e-04 7.52279133e-05 7.26626403e-05\n",
            " 3.14278266e-05 1.72507341e-05 5.36724274e-06 2.77335135e-06\n",
            " 1.36201904e-06 0.00000000e+00 0.00000000e+00 0.00000000e+00\n",
            " 0.00000000e+00 0.00000000e+00 0.00000000e+00 0.00000000e+00\n",
            " 0.00000000e+00 0.00000000e+00 9.93396786e-07 5.05503565e-07\n",
            " 2.10258649e-06 3.30581222e-06 4.75686137e-06 6.78522559e-06\n",
            " 5.13982630e-06 6.04729910e-06 9.92718810e-06 9.18823047e-06\n",
            " 6.21325088e-06 4.79494678e-06 2.25048335e-06 3.14648682e-06\n",
            " 1.29226188e-06 2.78444466e-06 5.51602224e-07 0.00000000e+00\n",
            " 0.00000000e+00 0.00000000e+00 0.00000000e+00 0.00000000e+00]\n"
          ]
        }
      ]
    },
    {
      "cell_type": "code",
      "execution_count": 5,
      "metadata": {
        "colab": {
          "base_uri": "https://localhost:8080/"
        },
        "id": "O0KVmDA_-tmo",
        "outputId": "5c4f8dd9-468b-4dfd-c02f-d2ddb59ddf1a"
      },
      "outputs": [
        {
          "output_type": "stream",
          "name": "stdout",
          "text": [
            "Explained Variance: [0.09704664 0.07095924 0.06169088]\n"
          ]
        }
      ],
      "source": [
        "from sklearn.decomposition import PCA\n",
        "\n",
        "# Feature Extraction with PCA\n",
        "pca = PCA(n_components=3)\n",
        "fit = pca.fit(train_images)\n",
        "# summarize components\n",
        "print(\"Explained Variance: %s\" % fit.explained_variance_ratio_)"
      ]
    },
    {
      "cell_type": "code",
      "execution_count": null,
      "metadata": {
        "id": "9bXOeFSkvL2I"
      },
      "outputs": [],
      "source": [
        "from sklearn.ensemble import RandomForestClassifier\n",
        "\n",
        "# Feature selection using Random Forest feature importance\n",
        "clf = RandomForestClassifier()\n",
        "clf.fit(train_images, train_labels)\n",
        "\n",
        "# Select top features based on feature importance scores\n",
        "top_features_indices = clf.feature_importances_.argsort()[-100:][::-1]\n",
        "X_selected = train_images[:, top_features_indices]"
      ]
    },
    {
      "cell_type": "code",
      "execution_count": null,
      "metadata": {
        "colab": {
          "base_uri": "https://localhost:8080/"
        },
        "id": "03fqxCkzw3tp",
        "outputId": "29714e7e-8641-449c-cd4a-ca4b985c5806"
      },
      "outputs": [
        {
          "name": "stdout",
          "output_type": "stream",
          "text": [
            "[0.00000000e+00 0.00000000e+00 0.00000000e+00 0.00000000e+00\n",
            " 0.00000000e+00 0.00000000e+00 0.00000000e+00 0.00000000e+00\n",
            " 0.00000000e+00 0.00000000e+00 0.00000000e+00 0.00000000e+00\n",
            " 3.39181190e-07 0.00000000e+00 0.00000000e+00 0.00000000e+00\n",
            " 0.00000000e+00 0.00000000e+00 0.00000000e+00 0.00000000e+00\n",
            " 0.00000000e+00 0.00000000e+00 0.00000000e+00 0.00000000e+00\n",
            " 0.00000000e+00 0.00000000e+00 0.00000000e+00 0.00000000e+00\n",
            " 0.00000000e+00 0.00000000e+00 0.00000000e+00 0.00000000e+00\n",
            " 0.00000000e+00 0.00000000e+00 7.30657758e-07 1.78397329e-06\n",
            " 2.67997373e-06 1.07324332e-06 3.55337190e-07 2.74614060e-06\n",
            " 3.03043669e-06 2.35037252e-06 2.62653134e-06 5.78633661e-06\n",
            " 1.00541318e-05 1.82891923e-06 3.67074923e-07 1.08926080e-06\n",
            " 4.81646574e-07 3.02580826e-07 3.65451538e-07 3.69645203e-07\n",
            " 0.00000000e+00 0.00000000e+00 0.00000000e+00 0.00000000e+00\n",
            " 0.00000000e+00 0.00000000e+00 0.00000000e+00 3.70505975e-07\n",
            " 0.00000000e+00 6.01028335e-07 3.36866117e-07 1.35414445e-05\n",
            " 8.78838067e-06 3.59352269e-05 9.21412558e-05 1.78951140e-04\n",
            " 7.60603757e-05 1.77493168e-04 8.94581271e-05 1.95459262e-04\n",
            " 2.42990868e-04 1.10927380e-04 8.47151086e-05 5.71613357e-05\n",
            " 1.04576045e-05 2.95345661e-05 2.25263299e-05 1.76882125e-06\n",
            " 3.66490659e-07 3.67135983e-07 0.00000000e+00 0.00000000e+00\n",
            " 0.00000000e+00 0.00000000e+00 0.00000000e+00 6.54109491e-07\n",
            " 8.09382464e-07 3.89596328e-06 7.04331786e-06 2.33798262e-05\n",
            " 1.10676656e-04 1.66256210e-04 1.98895618e-04 6.52050873e-04\n",
            " 8.05704612e-04 9.21233229e-04 8.79144238e-04 2.15121827e-03\n",
            " 2.84990280e-03 1.96437103e-03 1.55115327e-03 1.02338027e-03\n",
            " 3.81677579e-04 1.89921153e-04 4.71833364e-05 2.11717252e-05\n",
            " 1.16378943e-05 1.44936617e-06 0.00000000e+00 0.00000000e+00\n",
            " 0.00000000e+00 0.00000000e+00 3.64418444e-07 1.53706343e-06\n",
            " 1.52978238e-06 1.22941496e-05 3.11890032e-05 6.74890220e-05\n",
            " 1.47012140e-04 3.63358092e-04 6.85393564e-04 1.31541814e-03\n",
            " 1.53346357e-03 1.86222555e-03 2.24279134e-03 2.35530717e-03\n",
            " 1.59972207e-03 9.16468263e-04 9.84337090e-04 7.92479371e-04\n",
            " 4.17266052e-04 2.39297006e-04 1.41709521e-04 6.63997602e-05\n",
            " 4.54223969e-05 1.48970566e-05 2.46996608e-07 7.19557179e-07\n",
            " 0.00000000e+00 0.00000000e+00 0.00000000e+00 4.07170616e-06\n",
            " 1.29896664e-05 4.82268328e-05 1.26374793e-04 2.27205394e-04\n",
            " 4.11226518e-04 1.59054327e-03 2.09381489e-03 2.82456673e-03\n",
            " 3.48028190e-03 4.94858118e-03 5.31680164e-03 5.77607792e-03\n",
            " 5.27569409e-03 2.17574423e-03 1.81732062e-03 1.59209646e-03\n",
            " 1.15265671e-03 7.33400786e-04 4.46658708e-04 4.44328512e-04\n",
            " 1.05612236e-04 2.90743466e-05 2.66796122e-06 1.85246066e-07\n",
            " 0.00000000e+00 0.00000000e+00 1.73761789e-06 8.81924828e-06\n",
            " 3.43449409e-05 8.12297264e-05 2.20387633e-04 5.04777515e-04\n",
            " 1.09082842e-03 2.00467278e-03 1.87612748e-03 2.63767686e-03\n",
            " 2.77634680e-03 3.52098056e-03 3.43634497e-03 3.68166347e-03\n",
            " 4.96661126e-03 2.34720054e-03 2.01316004e-03 1.94595762e-03\n",
            " 1.65110463e-03 1.57002636e-03 1.33631213e-03 1.08115511e-03\n",
            " 4.23487602e-04 5.06935674e-05 1.28795501e-05 2.50170132e-06\n",
            " 0.00000000e+00 0.00000000e+00 3.26805256e-06 1.43539869e-05\n",
            " 6.26140930e-05 1.83513273e-04 3.25325097e-04 7.11067928e-04\n",
            " 9.51183017e-04 1.91907095e-03 2.25830536e-03 2.32665222e-03\n",
            " 2.75751391e-03 3.50533771e-03 6.56504148e-03 7.07380223e-03\n",
            " 4.67683003e-03 2.62559404e-03 2.48481922e-03 2.14516453e-03\n",
            " 1.67479081e-03 1.48832998e-03 1.25892482e-03 1.19923139e-03\n",
            " 7.62200604e-04 1.22803166e-04 1.39715108e-05 6.64321018e-06\n",
            " 5.46374912e-07 0.00000000e+00 2.99757358e-06 2.00078335e-05\n",
            " 7.44264490e-05 2.01446249e-04 4.75834314e-04 6.75032639e-04\n",
            " 1.16347937e-03 1.62586890e-03 3.13260148e-03 2.95002796e-03\n",
            " 3.44029007e-03 4.17778572e-03 6.38282278e-03 5.43218746e-03\n",
            " 3.38766807e-03 2.96892475e-03 3.18535323e-03 2.50840609e-03\n",
            " 2.50061667e-03 1.55859488e-03 1.12314776e-03 1.14876285e-03\n",
            " 9.15639461e-04 1.77588176e-04 1.07238358e-05 1.88102367e-06\n",
            " 0.00000000e+00 0.00000000e+00 1.96801776e-06 2.34288860e-05\n",
            " 8.70787959e-05 2.17717569e-04 3.28003411e-04 7.15666905e-04\n",
            " 1.06282544e-03 3.02788504e-03 3.09616261e-03 4.69452808e-03\n",
            " 3.04793964e-03 3.68651205e-03 3.34539806e-03 3.26891443e-03\n",
            " 3.48717726e-03 4.24812159e-03 4.08671892e-03 3.81938205e-03\n",
            " 3.38338509e-03 2.06989233e-03 1.00953942e-03 4.91030172e-04\n",
            " 4.82782409e-04 1.22496774e-04 1.41471824e-05 6.43538387e-07\n",
            " 0.00000000e+00 3.41460761e-07 3.51751050e-06 3.18661761e-05\n",
            " 1.13759590e-04 2.63849847e-04 3.79307568e-04 7.96245546e-04\n",
            " 2.07033863e-03 2.84618987e-03 5.55299087e-03 4.51715863e-03\n",
            " 3.67251242e-03 3.23196471e-03 3.21239787e-03 4.14917563e-03\n",
            " 3.25029697e-03 3.52265276e-03 3.91667705e-03 3.24816176e-03\n",
            " 2.08447926e-03 2.08827322e-03 1.00912185e-03 5.45026030e-04\n",
            " 2.48448448e-04 5.92418916e-05 8.13318618e-06 2.47000213e-07\n",
            " 0.00000000e+00 3.49965375e-07 2.75735837e-06 2.69171688e-05\n",
            " 9.33411520e-05 1.98659851e-04 5.62048586e-04 1.52919550e-03\n",
            " 2.11939311e-03 3.23045521e-03 4.84673207e-03 4.71632693e-03\n",
            " 4.14315308e-03 3.44564492e-03 4.18829261e-03 4.62946616e-03\n",
            " 3.98574277e-03 3.23964397e-03 5.43907071e-03 3.10418083e-03\n",
            " 2.63063298e-03 2.94374806e-03 2.32874416e-03 7.59510417e-04\n",
            " 1.65057313e-04 4.69422185e-05 1.05111823e-05 3.12127029e-06\n",
            " 0.00000000e+00 6.89087018e-07 3.55267935e-06 1.82245562e-05\n",
            " 9.28702476e-05 2.92753303e-04 6.90455376e-04 1.56159774e-03\n",
            " 2.87831623e-03 4.80339670e-03 6.85407699e-03 6.54155080e-03\n",
            " 4.49947703e-03 4.83715197e-03 7.03517625e-03 5.19341636e-03\n",
            " 3.47888232e-03 3.22856989e-03 4.10116961e-03 2.15782108e-03\n",
            " 1.98054243e-03 2.13347565e-03 2.70518430e-03 7.84062264e-04\n",
            " 9.54205599e-05 1.93973964e-05 6.30375143e-06 1.42749692e-06\n",
            " 0.00000000e+00 1.85248073e-07 5.00156405e-07 1.87472313e-05\n",
            " 7.41416497e-05 2.85153218e-04 1.01213506e-03 1.56310564e-03\n",
            " 2.54569080e-03 4.21657801e-03 5.18362551e-03 4.81688690e-03\n",
            " 4.20381618e-03 7.49555026e-03 8.28822703e-03 5.04699658e-03\n",
            " 3.34872985e-03 5.92773483e-03 5.55374521e-03 1.56623378e-03\n",
            " 1.21606665e-03 1.88634708e-03 2.34964025e-03 1.27051991e-03\n",
            " 2.52531830e-04 1.81557691e-05 8.57121207e-06 1.54176452e-06\n",
            " 0.00000000e+00 8.43216790e-07 1.89590116e-06 1.59488631e-05\n",
            " 9.64814214e-05 4.95871265e-04 8.99427416e-04 2.70016816e-03\n",
            " 4.37655403e-03 5.60457173e-03 4.45447429e-03 5.80977429e-03\n",
            " 4.25128561e-03 7.58118186e-03 6.18013417e-03 4.45926317e-03\n",
            " 4.39568059e-03 8.47043916e-03 2.83384004e-03 1.36386124e-03\n",
            " 1.12600768e-03 2.44913748e-03 1.90176357e-03 5.14903414e-04\n",
            " 2.57249208e-04 2.89647554e-05 1.16445330e-05 1.21662108e-06\n",
            " 0.00000000e+00 0.00000000e+00 4.70388553e-06 1.96873723e-05\n",
            " 8.34638496e-05 4.11614518e-04 1.32467511e-03 2.13625164e-03\n",
            " 3.42250692e-03 5.89451515e-03 6.14776186e-03 3.72208050e-03\n",
            " 3.77294418e-03 8.57617698e-03 5.81445853e-03 3.04196954e-03\n",
            " 3.43978330e-03 6.55744943e-03 3.09208827e-03 1.70186371e-03\n",
            " 1.70415618e-03 1.24348350e-03 9.23739681e-04 5.27776295e-04\n",
            " 1.42583890e-04 6.13793543e-05 1.09483131e-05 0.00000000e+00\n",
            " 0.00000000e+00 0.00000000e+00 3.57049199e-06 3.47705972e-05\n",
            " 9.75044764e-05 4.34172227e-04 1.47866265e-03 2.72016232e-03\n",
            " 5.53421559e-03 3.95519574e-03 4.16793450e-03 4.54908920e-03\n",
            " 5.30834582e-03 8.94025072e-03 5.20060076e-03 2.67539202e-03\n",
            " 3.09854480e-03 4.25906246e-03 2.11751794e-03 2.32067103e-03\n",
            " 1.39785368e-03 1.00550192e-03 8.19272469e-04 3.58460665e-04\n",
            " 1.44107421e-04 5.90080355e-05 8.73274162e-06 4.67192449e-06\n",
            " 0.00000000e+00 0.00000000e+00 4.39260426e-06 3.59267052e-05\n",
            " 1.18325748e-04 4.14520096e-04 1.30495633e-03 2.47465527e-03\n",
            " 2.36263231e-03 3.57950179e-03 5.16683810e-03 6.43826636e-03\n",
            " 6.79410114e-03 8.24272045e-03 2.94355077e-03 2.44113607e-03\n",
            " 1.83702183e-03 2.91060095e-03 3.18044728e-03 2.36954001e-03\n",
            " 1.43115482e-03 1.09419142e-03 6.38072108e-04 3.29525552e-04\n",
            " 2.09789449e-04 4.68193039e-05 1.03694571e-05 2.30517566e-06\n",
            " 0.00000000e+00 7.09117954e-07 8.68562823e-06 5.00569938e-05\n",
            " 1.42043057e-04 5.26190775e-04 1.26302978e-03 2.67491895e-03\n",
            " 3.07144463e-03 3.56667019e-03 5.19393551e-03 6.85099077e-03\n",
            " 3.33563190e-03 3.93347302e-03 2.33084283e-03 1.79045236e-03\n",
            " 1.59742164e-03 1.78920585e-03 1.55148131e-03 1.85430636e-03\n",
            " 1.43902462e-03 9.94322690e-04 6.37794643e-04 3.80196412e-04\n",
            " 2.80667917e-04 3.16524351e-05 5.37813219e-06 1.21862946e-06\n",
            " 0.00000000e+00 3.63199466e-07 5.42682123e-06 7.91862943e-05\n",
            " 2.25381210e-04 5.65973544e-04 1.42348438e-03 3.15138493e-03\n",
            " 2.28190476e-03 4.90264095e-03 5.77563325e-03 5.62665561e-03\n",
            " 3.56913174e-03 2.65304559e-03 1.78860965e-03 1.34077072e-03\n",
            " 1.42070363e-03 1.54099328e-03 2.25696332e-03 3.10972194e-03\n",
            " 1.07982916e-03 9.76823372e-04 9.66901918e-04 4.58167683e-04\n",
            " 2.03729596e-04 2.56786906e-05 5.54594459e-06 0.00000000e+00\n",
            " 0.00000000e+00 4.72634628e-07 6.84078104e-06 6.83732774e-05\n",
            " 2.46558597e-04 6.57306883e-04 1.09804106e-03 4.65916845e-03\n",
            " 4.47323593e-03 5.96315965e-03 5.95412336e-03 2.91493124e-03\n",
            " 2.87147442e-03 2.60323685e-03 1.93493652e-03 1.72598840e-03\n",
            " 1.51106088e-03 1.39276054e-03 2.05152829e-03 1.30548037e-03\n",
            " 1.34709450e-03 1.08445077e-03 4.93991430e-04 3.72933079e-04\n",
            " 9.44328800e-05 1.62381457e-05 2.07834008e-06 0.00000000e+00\n",
            " 0.00000000e+00 0.00000000e+00 5.32498207e-06 3.97407784e-05\n",
            " 2.33840847e-04 4.49455359e-04 1.22052464e-03 2.70506323e-03\n",
            " 5.67021178e-03 3.67127757e-03 2.56662153e-03 1.54118023e-03\n",
            " 1.52632118e-03 1.33734477e-03 1.19746164e-03 1.53231238e-03\n",
            " 1.10669811e-03 1.83143093e-03 1.25546360e-03 9.52718036e-04\n",
            " 1.12688638e-03 5.18755506e-04 3.27822290e-04 1.30673040e-04\n",
            " 7.79442287e-05 9.59046175e-06 7.23647588e-07 0.00000000e+00\n",
            " 0.00000000e+00 0.00000000e+00 3.27649452e-06 3.02821030e-05\n",
            " 1.23061382e-04 2.24619130e-04 8.96007679e-04 1.22177278e-03\n",
            " 3.50250655e-03 2.49512681e-03 3.09328335e-03 2.29092729e-03\n",
            " 1.79916876e-03 1.50025779e-03 1.74075290e-03 1.29416212e-03\n",
            " 1.21039768e-03 1.23873220e-03 8.75697189e-04 6.70808878e-04\n",
            " 4.66261217e-04 2.98125575e-04 1.59420090e-04 5.91640223e-05\n",
            " 2.05865764e-05 5.78204972e-06 8.57412817e-07 6.10946256e-07\n",
            " 0.00000000e+00 0.00000000e+00 3.39040829e-06 1.57057789e-05\n",
            " 6.60211320e-05 1.48493486e-04 4.50979002e-04 8.30942495e-04\n",
            " 1.51662415e-03 2.19902067e-03 3.20867296e-03 3.57254702e-03\n",
            " 5.45188967e-03 5.18689448e-03 3.48498608e-03 2.43575013e-03\n",
            " 1.51629594e-03 1.17857204e-03 5.74067800e-04 3.99826975e-04\n",
            " 2.22753094e-04 1.13860015e-04 6.66900425e-05 3.46593614e-05\n",
            " 1.40805784e-05 4.38069190e-06 1.79383569e-06 0.00000000e+00\n",
            " 0.00000000e+00 0.00000000e+00 9.49926046e-07 7.13838899e-06\n",
            " 4.29998277e-05 1.16917793e-04 2.11511085e-04 5.30596007e-04\n",
            " 7.87224821e-04 9.75540216e-04 1.12864871e-03 1.66415056e-03\n",
            " 1.91239986e-03 1.07190918e-03 1.45779341e-03 7.68894974e-04\n",
            " 5.87178262e-04 5.11243991e-04 3.64336817e-04 1.92351088e-04\n",
            " 1.89391771e-04 7.73740895e-05 3.80113874e-05 1.55675299e-05\n",
            " 6.32125344e-06 8.54650799e-07 0.00000000e+00 0.00000000e+00\n",
            " 0.00000000e+00 0.00000000e+00 6.46270554e-07 1.88931933e-06\n",
            " 8.52276387e-06 5.07127782e-05 1.23998793e-04 3.70529411e-04\n",
            " 5.43053971e-04 6.69959060e-04 5.91350690e-04 1.36126960e-03\n",
            " 1.49407331e-03 1.16137984e-03 4.73077373e-04 4.77698993e-04\n",
            " 3.17412058e-04 4.15377276e-04 2.94815971e-04 1.22646242e-04\n",
            " 8.30980133e-05 4.79895751e-05 1.85233241e-05 5.39891151e-06\n",
            " 2.01774050e-06 0.00000000e+00 0.00000000e+00 0.00000000e+00\n",
            " 0.00000000e+00 0.00000000e+00 0.00000000e+00 3.36800801e-07\n",
            " 2.96003249e-06 6.25112526e-06 9.69254099e-06 4.88600850e-05\n",
            " 1.27618114e-04 8.26540802e-05 1.39806504e-04 5.12150321e-04\n",
            " 1.66929528e-04 2.38145864e-04 1.84410585e-04 3.07428412e-04\n",
            " 1.63013483e-04 9.32509977e-05 9.02294950e-05 3.47535640e-05\n",
            " 3.72543649e-05 1.06940322e-05 9.05544340e-06 1.07227492e-06\n",
            " 7.23852791e-07 0.00000000e+00 0.00000000e+00 0.00000000e+00\n",
            " 0.00000000e+00 0.00000000e+00 0.00000000e+00 0.00000000e+00\n",
            " 0.00000000e+00 6.58647827e-07 0.00000000e+00 1.38842051e-06\n",
            " 3.54457326e-07 1.43096489e-06 1.41530178e-06 2.45441553e-06\n",
            " 1.81066739e-06 3.93277774e-06 8.23146895e-06 5.16355212e-06\n",
            " 6.02652099e-06 1.97103605e-06 5.78712220e-07 1.83506785e-06\n",
            " 1.36002708e-06 4.93998569e-07 1.79022350e-06 3.69952140e-07\n",
            " 0.00000000e+00 0.00000000e+00 0.00000000e+00 0.00000000e+00]\n"
          ]
        }
      ],
      "source": [
        "print(clf.feature_importances_)"
      ]
    }
  ],
  "metadata": {
    "colab": {
      "toc_visible": true,
      "provenance": []
    },
    "kernelspec": {
      "display_name": "Python 3",
      "name": "python3"
    },
    "language_info": {
      "name": "python"
    }
  },
  "nbformat": 4,
  "nbformat_minor": 0
}