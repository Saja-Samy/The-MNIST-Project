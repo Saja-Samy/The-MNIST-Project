{
  "cells": [
    {
      "cell_type": "markdown",
      "metadata": {
        "id": "mqNhehpdPHWE"
      },
      "source": [
        "# Build machine learning models\n",
        "\n"
      ]
    },
    {
      "cell_type": "markdown",
      "metadata": {
        "id": "WbnbCrx1Kyw6"
      },
      "source": [
        " ## 0. Import data"
      ]
    },
    {
      "cell_type": "code",
      "execution_count": 3,
      "metadata": {
        "id": "FCUVGeCsJ5gz"
      },
      "outputs": [],
      "source": [
        "# Import libraries\n",
        "from tensorflow.keras.datasets import mnist\n",
        "\n",
        "# Load MNIST dataset\n",
        "(X_train, y_train), (X_test, y_test) = mnist.load_data()"
      ]
    },
    {
      "cell_type": "markdown",
      "metadata": {
        "id": "oIM45Lj-oRPM"
      },
      "source": [
        "## 1. Feature Selection"
      ]
    },
    {
      "cell_type": "code",
      "execution_count": 4,
      "metadata": {
        "id": "FoNdrpcnK5rd"
      },
      "outputs": [],
      "source": [
        "import numpy as np\n",
        "# Reshape data for some techniques\n",
        "X_train_flat = X_train.reshape(len(X_train), -1)\n",
        "X_test_flat = X_test.reshape(len(X_test), -1)\n",
        "\n",
        "# PCA for dimensionality reduction\n",
        "from sklearn.decomposition import PCA\n",
        "pca = PCA(n_components=50)\n",
        "X_train_pca = pca.fit_transform(X_train_flat)\n",
        "X_test_pca = pca.transform(X_test_flat)\n",
        "\n",
        "# Feature importance with Random Forest\n",
        "from sklearn.ensemble import RandomForestClassifier\n",
        "rf = RandomForestClassifier(n_estimators=100)\n",
        "rf.fit(X_train_flat, y_train)\n",
        "importances = rf.feature_importances_\n",
        "indices = np.argsort(importances)[::-1]\n",
        "\n",
        "# Select top 100 features based on importance\n",
        "X_train_selected = X_train_flat[:, indices[:100]]\n",
        "X_test_selected = X_test_flat[:, indices[:100]]"
      ]
    },
    {
      "cell_type": "code",
      "execution_count": 5,
      "metadata": {
        "colab": {
          "base_uri": "https://localhost:8080/"
        },
        "id": "EjIE_jMreV5p",
        "outputId": "2b48da46-dc6d-4b53-b80e-e4bfd96b30ed"
      },
      "outputs": [
        {
          "output_type": "execute_result",
          "data": {
            "text/plain": [
              "(60000, 784)"
            ]
          },
          "metadata": {},
          "execution_count": 5
        }
      ],
      "source": [
        "X_train_flat.shape"
      ]
    },
    {
      "cell_type": "markdown",
      "metadata": {
        "id": "QLs5UBQGO8cN"
      },
      "source": [
        "### Strating from here for the model building"
      ]
    },
    {
      "cell_type": "code",
      "execution_count": null,
      "metadata": {
        "id": "bRgEOszML6DC"
      },
      "outputs": [],
      "source": [
        "# Train Logistic Regression\n",
        "from sklearn.linear_model import LogisticRegression\n",
        "lr = LogisticRegression(solver='sag', max_iter=1000)\n",
        "lr.fit(X_train_selected, y_train)\n",
        "\n",
        "# Train K-Nearest Neighbors\n",
        "from sklearn.neighbors import KNeighborsClassifier\n",
        "knn = KNeighborsClassifier(n_neighbors=5)\n",
        "knn.fit(X_train_selected, y_train)\n",
        "\n",
        "# Train Support Vector Machine\n",
        "from sklearn.svm import SVC\n",
        "svm = SVC()\n",
        "svm.fit(X_train_selected, y_train)\n",
        "\n",
        "# Train Random Forest again with selected features\n",
        "rf = RandomForestClassifier(n_estimators=100)\n",
        "rf.fit(X_train_selected, y_train)\n"
      ]
    },
    {
      "cell_type": "code",
      "execution_count": 2,
      "metadata": {
        "id": "AWWzllqCbRSp"
      },
      "outputs": [],
      "source": [
        "from matplotlib import pyplot\n",
        "#\n",
        "from sklearn.model_selection import KFold\n",
        "from sklearn.model_selection import cross_val_score\n",
        "#\n",
        "from sklearn.linear_model import LogisticRegression                         # <---\n",
        "#\n",
        "from sklearn.tree import DecisionTreeClassifier                             # <---\n",
        "#\n",
        "from sklearn.neighbors import KNeighborsClassifier                          # <---\n",
        "#\n",
        "from sklearn.discriminant_analysis import LinearDiscriminantAnalysis        # <---\n",
        "#\n",
        "from sklearn.naive_bayes import GaussianNB                                  # <---\n",
        "#\n",
        "from sklearn.svm import SVC                                                 # <---"
      ]
    },
    {
      "cell_type": "code",
      "execution_count": null,
      "metadata": {
        "colab": {
          "base_uri": "https://localhost:8080/"
        },
        "id": "0x2EUYKFbi-s",
        "outputId": "1e4cacab-ab59-487f-da16-9976fe78b0fd"
      },
      "outputs": [
        {
          "output_type": "stream",
          "name": "stdout",
          "text": [
            "LDA: 0.863967 (0.004661)\n",
            "KNN: 0.971500 (0.003105)\n",
            "CART: 0.872300 (0.005907)\n",
            "NB: 0.563217 (0.010782)\n",
            "SVM: 0.978700 (0.001483)\n",
            "CPU times: user 1h 5min 56s, sys: 49.9 s, total: 1h 6min 46s\n",
            "Wall time: 1h 3min 15s\n"
          ]
        }
      ],
      "source": [
        "%%time\n",
        "# Compare Algorithms\n",
        "\n",
        "# prepare models\n",
        "models = []\n",
        "#models.append(( 'LR'   , LogisticRegression(solver='sag', max_iter=500)))    # avoid warnings with (solver='lbfgs', max_iter=500)\n",
        "models.append(( 'LDA'  , LinearDiscriminantAnalysis()))\n",
        "models.append(( 'KNN'  , KNeighborsClassifier()))\n",
        "models.append(( 'CART' , DecisionTreeClassifier()))\n",
        "models.append(( 'NB'   , GaussianNB()))\n",
        "models.append(( 'SVM' , SVC()))                                                # avoid warnings with (gamma='scale')\n",
        "\n",
        "# evaluate each model in turn\n",
        "results = []\n",
        "names = []\n",
        "scoring = 'accuracy'\n",
        "for name, model in models:\n",
        "  kfold = KFold(n_splits=10, random_state=7, shuffle=True)\n",
        "  cv_results = cross_val_score(model, X_train_flat, y_train, cv=kfold, scoring=scoring)\n",
        "  results.append(cv_results)\n",
        "  names.append(name)\n",
        "  msg = \"%s: %f (%f)\" % (name, cv_results.mean(), cv_results.std())\n",
        "  print(msg)\n"
      ]
    },
    {
      "cell_type": "code",
      "execution_count": null,
      "metadata": {
        "colab": {
          "base_uri": "https://localhost:8080/",
          "height": 478
        },
        "id": "Yh-xfoGreF0E",
        "outputId": "4338633d-55d7-46b4-bbc2-dd0670c6458a"
      },
      "outputs": [
        {
          "output_type": "display_data",
          "data": {
            "text/plain": [
              "<Figure size 640x480 with 1 Axes>"
            ],
            "image/png": "[encoded data removed]"
          },
          "metadata": {}
        }
      ],
      "source": [
        "# boxplot algorithm comparison\n",
        "fig = pyplot.figure()\n",
        "fig.suptitle('Algorithms comparison')\n",
        "ax = fig.add_subplot(111)\n",
        "pyplot.boxplot(results)\n",
        "ax.set_xticklabels(names)\n",
        "pyplot.show()"
      ]
    },
    {
      "cell_type": "code",
      "execution_count": null,
      "metadata": {
        "id": "P17kmfKCuMIb",
        "colab": {
          "base_uri": "https://localhost:8080/"
        },
        "outputId": "fc69072b-7caa-4819-a388-f64f54dc4a39"
      },
      "outputs": [
        {
          "output_type": "stream",
          "name": "stdout",
          "text": [
            "Logistic Regression with PCA:\n",
            "Accuracy: 0.9055\n",
            "Confusion Matrix:\n",
            "[[ 952    0    1    2    0   10   10    3    2    0]\n",
            " [   0 1105    2    3    1    3    4    2   15    0]\n",
            " [  12   10  903   12   15    1   13   20   35   11]\n",
            " [   6    4   19  905    1   29    3   16   17   10]\n",
            " [   2    5    4    2  911    1   11    2    6   38]\n",
            " [  13    4    8   47   12  743   17    7   29   12]\n",
            " [  14    3    5    1   13   11  904    4    3    0]\n",
            " [   1   14   24    5    8    0    1  941    1   33]\n",
            " [  13   19    7   35   13   36   18   16  801   16]\n",
            " [  13    7    4   11   42   10    0   26    6  890]]\n"
          ]
        }
      ],
      "source": [
        "from sklearn.linear_model import LogisticRegression\n",
        "from sklearn.metrics import accuracy_score, confusion_matrix\n",
        "\n",
        "# Train Logistic Regression model using PCA transformed features\n",
        "model_pca = LogisticRegression(solver = 'sag',max_iter=1000)\n",
        "model_pca.fit(X_train_pca, y_train)\n",
        "\n",
        "# Evaluate model_pca on the test set\n",
        "predictions_pca = model_pca.predict(X_test_pca)\n",
        "accuracy_pca = accuracy_score(y_test, predictions_pca)\n",
        "conf_matrix_pca = confusion_matrix(y_test, predictions_pca)\n",
        "\n",
        "print(\"Logistic Regression with PCA:\")\n",
        "print(\"Accuracy:\", accuracy_pca)\n",
        "print(\"Confusion Matrix:\")\n",
        "print(conf_matrix_pca)"
      ]
    },
    {
      "cell_type": "code",
      "source": [
        "# Perform SelectKBest feature selection\n",
        "from sklearn.feature_selection import SelectKBest, chi2\n",
        "selector = SelectKBest(chi2, k=10)  # Select top 10 features using chi2\n",
        "X_train_reshaped = X_train.reshape((X_train.shape[0], -1))  # Flatten samples, features, channels\n",
        "\n",
        "X_train_kbest = selector.fit_transform(X_train_reshaped, y_train)\n",
        "\n",
        "# Train Logistic Regression model using SelectKBest transformed features\n",
        "model_kbest = LogisticRegression(solver='sag', max_iter=1000)\n",
        "model_kbest.fit(X_train_kbest, y_train)\n",
        "\n",
        "X_test_reshaped = X_test.reshape((X_test.shape[0], -1))  # Flatten samples, features, channels\n",
        "\n",
        "# Apply SelectKBest to test data using the same parameters\n",
        "X_test_kbest = selector.transform(X_test_reshaped)\n",
        "\n",
        "# Evaluate model_kbest on the test set\n",
        "predictions_kbest = model_kbest.predict(X_test_kbest)\n",
        "accuracy_kbest = accuracy_score(y_test, predictions_kbest)\n",
        "conf_matrix_kbest = confusion_matrix(y_test, predictions_kbest)\n",
        "\n",
        "print(\"\\nLogistic Regression with SelectKBest:\")\n",
        "print(\"Accuracy:\", accuracy_kbest)\n",
        "print(\"Confusion Matrix:\")\n",
        "print(conf_matrix_kbest)\n"
      ],
      "metadata": {
        "colab": {
          "base_uri": "https://localhost:8080/"
        },
        "id": "ILvktctssUYO",
        "outputId": "cbb06732-1576-4728-c1d8-a3aa06d47ea2"
      },
      "execution_count": null,
      "outputs": [
        {
          "output_type": "stream",
          "name": "stdout",
          "text": [
            "\n",
            "Logistic Regression with SelectKBest:\n",
            "Accuracy: 0.3924\n",
            "Confusion Matrix:\n",
            "[[ 613    1   94    5   43    5  113   93    8    5]\n",
            " [   0 1013    2   40    1   12    0   16    3   48]\n",
            " [  64   86  394   68   42   85   28  225   11   29]\n",
            " [   6  462   53  310    6   34   19   68    6   46]\n",
            " [  19   57   17   16  138    4  112  555    5   59]\n",
            " [   6  135  136  164   16  113   33  228   25   36]\n",
            " [ 121   65   39   38   98    8  311  235    7   36]\n",
            " [  14   51    8   14   14    5   24  841   14   43]\n",
            " [  25  340   64   69    3   31   19  271   86   66]\n",
            " [  18  193    2    5   41    0   26  615    4  105]]\n"
          ]
        }
      ]
    },
    {
      "cell_type": "code",
      "source": [
        "y_train.shape"
      ],
      "metadata": {
        "colab": {
          "base_uri": "https://localhost:8080/"
        },
        "id": "Aszs5jOnpWy-",
        "outputId": "6e7369a3-02da-4b11-a9ca-54225f1e3a23"
      },
      "execution_count": null,
      "outputs": [
        {
          "output_type": "execute_result",
          "data": {
            "text/plain": [
              "(60000,)"
            ]
          },
          "metadata": {},
          "execution_count": 21
        }
      ]
    },
    {
      "cell_type": "markdown",
      "metadata": {
        "id": "F3YRfprwPTbK"
      },
      "source": [
        "# 4. Evaluate Model Performance\n",
        "\n"
      ]
    },
    {
      "cell_type": "code",
      "execution_count": null,
      "metadata": {
        "colab": {
          "base_uri": "https://localhost:8080/"
        },
        "id": "VxXSxoutMXtP",
        "outputId": "cd39877e-ba64-4dc6-ace0-e22ef4566094"
      },
      "outputs": [
        {
          "output_type": "stream",
          "name": "stdout",
          "text": [
            "Logistic Regression accuracy: 0.8709\n",
            "K-Nearest Neighbors accuracy: 0.9439\n",
            "SVM accuracy: 0.9640\n",
            "Random Forest accuracy: 0.9474\n"
          ]
        }
      ],
      "source": [
        "# Evaluate all models on test data\n",
        "from sklearn.metrics import accuracy_score\n",
        "\n",
        "models = [lr, knn, svm, rf]\n",
        "model_names = [\"Logistic Regression\", \"K-Nearest Neighbors\", \"SVM\", \"Random Forest\"]\n",
        "results = []\n",
        "for model, name in zip(models, model_names):\n",
        "  predictions = model.predict(X_test_selected)\n",
        "  accuracy = accuracy_score(y_test, predictions)\n",
        "  results.append(accuracy)\n",
        "  print(f\"{name} accuracy: {accuracy:.4f}\")\n"
      ]
    },
    {
      "cell_type": "markdown",
      "metadata": {
        "id": "L3lfSTCsRMuO"
      },
      "source": [
        "# 5. Hyperparameter Tuning (Example with Random Forest)\n",
        "\n"
      ]
    },
    {
      "cell_type": "code",
      "execution_count": null,
      "metadata": {
        "colab": {
          "base_uri": "https://localhost:8080/"
        },
        "id": "v3oIWxKtQbqu",
        "outputId": "60087511-52c8-4296-862e-7d919b15764a"
      },
      "outputs": [
        {
          "output_type": "stream",
          "name": "stdout",
          "text": [
            "Best parameters: {'max_depth': 7, 'n_estimators': 200}\n",
            "Best accuracy: 0.8734500000000001\n"
          ]
        }
      ],
      "source": [
        "# GridSearchCV for hyperparameter tuning\n",
        "from sklearn.model_selection import GridSearchCV\n",
        "\n",
        "param_grid = {\n",
        "  \"n_estimators\": [50, 100, 200],\n",
        "  \"max_depth\": [3, 5, 7],\n",
        "}\n",
        "\n",
        "grid_search = GridSearchCV(rf, param_grid, cv=5)\n",
        "grid_search.fit(X_train_selected, y_train)\n",
        "\n",
        "# Print best parameters and accuracy\n",
        "print(\"Best parameters:\", grid_search.best_params_)\n",
        "print(\"Best accuracy:\", grid_search.best_score_)\n"
      ]
    }
  ],
  "metadata": {
    "colab": {
      "toc_visible": true,
      "provenance": []
    },
    "kernelspec": {
      "display_name": "Python 3",
      "name": "python3"
    },
    "language_info": {
      "name": "python"
    }
  },
  "nbformat": 4,
  "nbformat_minor": 0
}